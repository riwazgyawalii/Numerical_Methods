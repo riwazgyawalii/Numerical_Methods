{
  "nbformat": 4,
  "nbformat_minor": 0,
  "metadata": {
    "colab": {
      "name": "Discussion3.ipynb",
      "provenance": [],
      "collapsed_sections": [],
      "authorship_tag": "ABX9TyMQCRe26GIuHD6sgjRKxbNZ",
      "include_colab_link": true
    },
    "kernelspec": {
      "name": "python3",
      "display_name": "Python 3"
    }
  },
  "cells": [
    {
      "cell_type": "markdown",
      "metadata": {
        "id": "view-in-github",
        "colab_type": "text"
      },
      "source": [
        "<a href=\"https://colab.research.google.com/github/riwazgyawalii/Numerical_Methods/blob/master/Discussion3.ipynb\" target=\"_parent\"><img src=\"https://colab.research.google.com/assets/colab-badge.svg\" alt=\"Open In Colab\"/></a>"
      ]
    },
    {
      "cell_type": "markdown",
      "metadata": {
        "id": "vxzBcLhZdZwK"
      },
      "source": [
        "**Discussion Board 3**\n"
      ]
    },
    {
      "cell_type": "code",
      "metadata": {
        "colab": {
          "base_uri": "https://localhost:8080/"
        },
        "id": "4Gj172LUZgZi",
        "outputId": "dd9af69f-ff67-4cc6-d7d2-f06d0fd44bb8"
      },
      "source": [
        "import numpy as np\n",
        "from scipy.misc import derivative  \n",
        "\n",
        "x_r = 1   \n",
        "x = np.linspace(-1, 1,250) \n",
        "\n",
        "def f(x):\n",
        "  return 1*x**2 + 2*x**3 + 3*x + 4\n",
        "\n",
        "def x_next(func, x, x_r): \n",
        "  slope = derivative(func, x_r, dx=1) \n",
        "  return x_r - f(x_r)/slope \n",
        "\n",
        "for value in range (10):  \n",
        "  print(x_r)     \n",
        "  x_r = x_next(func,x,x_r)"
      ],
      "execution_count": 9,
      "outputs": [
        {
          "output_type": "stream",
          "text": [
            "1\n",
            "0.09090909090909094\n",
            "-0.8849512069851053\n",
            "-1.1491180355168882\n",
            "-0.8039002235894384\n",
            "-1.2429131176680335\n",
            "-0.6903120915801059\n",
            "-1.34528183863688\n",
            "-0.5806500929999285\n",
            "-1.4002033586834277\n"
          ],
          "name": "stdout"
        }
      ]
    },
    {
      "cell_type": "markdown",
      "metadata": {
        "id": "yM3bxmvndqKQ"
      },
      "source": [
        "Now after finding the root we will graph it as below:\n"
      ]
    },
    {
      "cell_type": "code",
      "metadata": {
        "colab": {
          "base_uri": "https://localhost:8080/",
          "height": 265
        },
        "id": "gHy3ipwIdiUm",
        "outputId": "20fac8b2-c38d-4564-fe29-54cf9de4be38"
      },
      "source": [
        "import numpy as np\n",
        "import matplotlib.pyplot as plt\n",
        "\n",
        "def plot_me(a,b,c,d,clr,mystr):\n",
        "  x = np.arange(-3,3,0.05)\n",
        "  y = [(a*i**3 + b*i**2 + c*i + d)for i in x]\n",
        "  plt.plot(x,y, label='cubic', linestyle='-', color=clr)\n",
        "  plt.grid(True)\n",
        "  plt.text(2,4, mystr)\n",
        "  plt.show()\n",
        "  plt.close()\n",
        "\n",
        "plot_me(1,2,3,4, 'r', 'f(X)=x^3+2x^2+3x+4')"
      ],
      "execution_count": 8,
      "outputs": [
        {
          "output_type": "display_data",
          "data": {
            "image/png": "[encoded data removed]",
            "text/plain": [
              "<Figure size 432x288 with 1 Axes>"
            ]
          },
          "metadata": {
            "tags": [],
            "needs_background": "light"
          }
        }
      ]
    },
    {
      "cell_type": "code",
      "metadata": {
        "id": "5QFOiYQQdtvX"
      },
      "source": [
        ""
      ],
      "execution_count": null,
      "outputs": []
    }
  ]
}