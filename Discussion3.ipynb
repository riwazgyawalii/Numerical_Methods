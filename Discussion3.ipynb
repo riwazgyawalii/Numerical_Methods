{
  "nbformat": 4,
  "nbformat_minor": 0,
  "metadata": {
    "colab": {
      "name": "Discussion3.ipynb",
      "provenance": [],
      "collapsed_sections": [],
      "authorship_tag": "ABX9TyNYP3PznzV5PX1Vu58I91aa",
      "include_colab_link": true
    },
    "kernelspec": {
      "name": "python3",
      "display_name": "Python 3"
    }
  },
  "cells": [
    {
      "cell_type": "markdown",
      "metadata": {
        "id": "view-in-github",
        "colab_type": "text"
      },
      "source": [
        "<a href=\"https://colab.research.google.com/github/riwazgyawalii/Numerical_Methods/blob/master/Discussion3.ipynb\" target=\"_parent\"><img src=\"https://colab.research.google.com/assets/colab-badge.svg\" alt=\"Open In Colab\"/></a>"
      ]
    },
    {
      "cell_type": "markdown",
      "metadata": {
        "id": "vxzBcLhZdZwK"
      },
      "source": [
        "**Discussion Board 3**\n"
      ]
    },
    {
      "cell_type": "code",
      "metadata": {
        "colab": {
          "base_uri": "https://localhost:8080/"
        },
        "id": "4Gj172LUZgZi",
        "outputId": "6989d6da-8cf2-434d-a0d7-7278f61d59f7"
      },
      "source": [
        "import numpy as np\n",
        "from scipy.misc import derivative  \n",
        "\n",
        "x_r = 1   \n",
        "x = np.linspace(-1, 1,200) \n",
        "\n",
        "def f(x):\n",
        "  return 2*x**3 + 3*x**2 + 3*x + 4\n",
        "\n",
        "def x_next(func, x, x_r): \n",
        "  slope = derivative(func, x_r, dx=1) \n",
        "  return x_r - f(x_r)/slope \n",
        "\n",
        "for value in range (20):  \n",
        "  print(x_r)     \n",
        "  x_r = x_next(func,x,x_r)"
      ],
      "execution_count": 18,
      "outputs": [
        {
          "output_type": "stream",
          "text": [
            "1\n",
            "-0.09090909090909083\n",
            "-1.1153293658937\n",
            "-1.6079180064414487\n",
            "-1.3484065011546975\n",
            "-1.4730157918786428\n",
            "-1.4076203399039329\n",
            "-1.4408215487200102\n",
            "-1.4236286506619937\n",
            "-1.4324484575007344\n",
            "-1.4279011230379934\n",
            "-1.4302396996228652\n",
            "-1.4290354399867227\n",
            "-1.4296551591167972\n",
            "-1.4293361366233\n",
            "-1.4295003353453088\n",
            "-1.429415815560045\n",
            "-1.4294593192746994\n",
            "-1.4294369266535545\n",
            "-1.429448452638557\n"
          ],
          "name": "stdout"
        }
      ]
    },
    {
      "cell_type": "markdown",
      "metadata": {
        "id": "yM3bxmvndqKQ"
      },
      "source": [
        "Now after finding the root we will graph it as below:\n"
      ]
    },
    {
      "cell_type": "code",
      "metadata": {
        "colab": {
          "base_uri": "https://localhost:8080/",
          "height": 265
        },
        "id": "gHy3ipwIdiUm",
        "outputId": "87f7823e-f75e-4eb0-e2d5-8dfa5598f86f"
      },
      "source": [
        "import numpy as np\n",
        "import matplotlib.pyplot as plt\n",
        "\n",
        "def plot_me(a,b,c,d,clr,mystr):\n",
        "  x = np.arange(-1,5,0.5)\n",
        "  y = [(a*i**3 + b*i**2 + c*i + d)for i in x]\n",
        "  plt.plot(x,y, label='cubic', linestyle='-', color=clr)\n",
        "  plt.grid(True)\n",
        "  plt.text(2,4, mystr)\n",
        "  plt.show()\n",
        "  plt.close()\n",
        "\n",
        "plot_me(1,2,3,4, 'r', 'f(X)=2x^3+x^2+2x+5')"
      ],
      "execution_count": 19,
      "outputs": [
        {
          "output_type": "display_data",
          "data": {
            "image/png": "[encoded data removed]",
            "text/plain": [
              "<Figure size 432x288 with 1 Axes>"
            ]
          },
          "metadata": {
            "tags": [],
            "needs_background": "light"
          }
        }
      ]
    },
    {
      "cell_type": "markdown",
      "metadata": {
        "id": "e32qjogajGXr"
      },
      "source": [
        "Well is used x_r as my initial value as mention in Newton-Rapsons method. \n",
        "Then i determined the range for our calculation.\n"
      ]
    }
  ]
}